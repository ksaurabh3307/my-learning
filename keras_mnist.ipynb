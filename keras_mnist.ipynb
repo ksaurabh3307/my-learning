{
  "nbformat": 4,
  "nbformat_minor": 0,
  "metadata": {
    "colab": {
      "name": "keras_mnist.ipynb",
      "provenance": [],
      "collapsed_sections": [],
      "authorship_tag": "ABX9TyOKwWJ4LB7ZRaUkAHyVPZr7",
      "include_colab_link": true
    },
    "kernelspec": {
      "name": "python3",
      "display_name": "Python 3"
    }
  },
  "cells": [
    {
      "cell_type": "markdown",
      "metadata": {
        "id": "view-in-github",
        "colab_type": "text"
      },
      "source": [
        "<a href=\"https://colab.research.google.com/github/ksaurabh3307/my-learning/blob/master/keras_mnist.ipynb\" target=\"_parent\"><img src=\"https://colab.research.google.com/assets/colab-badge.svg\" alt=\"Open In Colab\"/></a>"
      ]
    },
    {
      "cell_type": "markdown",
      "metadata": {
        "id": "Z8li3vzpgvFB",
        "colab_type": "text"
      },
      "source": [
        "Loiading the MNIST Datasets in Keras"
      ]
    },
    {
      "cell_type": "code",
      "metadata": {
        "id": "0UXImk7xT-8_",
        "colab_type": "code",
        "colab": {}
      },
      "source": [
        "from keras.datasets import mnist\n",
        "(train_images, train_labels), (test_images, test_labels) = mnist.load_data()"
      ],
      "execution_count": 0,
      "outputs": []
    },
    {
      "cell_type": "markdown",
      "metadata": {
        "id": "3lqVwe7Kg4B1",
        "colab_type": "text"
      },
      "source": [
        "Training and Test Data Information"
      ]
    },
    {
      "cell_type": "code",
      "metadata": {
        "id": "harSkXL2fz9x",
        "colab_type": "code",
        "colab": {}
      },
      "source": [
        "train_images.shape"
      ],
      "execution_count": 0,
      "outputs": []
    },
    {
      "cell_type": "code",
      "metadata": {
        "id": "cqvQwHRYf5j6",
        "colab_type": "code",
        "colab": {}
      },
      "source": [
        "len(train_labels)"
      ],
      "execution_count": 0,
      "outputs": []
    },
    {
      "cell_type": "code",
      "metadata": {
        "id": "iMuKOCjNgGnw",
        "colab_type": "code",
        "colab": {}
      },
      "source": [
        "train_labels"
      ],
      "execution_count": 0,
      "outputs": []
    },
    {
      "cell_type": "code",
      "metadata": {
        "id": "YNrG9b-OgOiP",
        "colab_type": "code",
        "colab": {}
      },
      "source": [
        "test_images.shape"
      ],
      "execution_count": 0,
      "outputs": []
    },
    {
      "cell_type": "code",
      "metadata": {
        "id": "WZAyXsGogUAi",
        "colab_type": "code",
        "colab": {}
      },
      "source": [
        "len(test_labels)"
      ],
      "execution_count": 0,
      "outputs": []
    },
    {
      "cell_type": "code",
      "metadata": {
        "id": "R1iyUEwbgdAw",
        "colab_type": "code",
        "colab": {}
      },
      "source": [
        "test_labels"
      ],
      "execution_count": 0,
      "outputs": []
    },
    {
      "cell_type": "markdown",
      "metadata": {
        "id": "MlHw7MYGgkYd",
        "colab_type": "text"
      },
      "source": [
        "Network Architecture\n"
      ]
    },
    {
      "cell_type": "code",
      "metadata": {
        "id": "c7kEPXLPgsLk",
        "colab_type": "code",
        "colab": {}
      },
      "source": [
        "from keras import models\n",
        "from keras import layers\n",
        "network = models.Sequential()\n",
        "network.add(layers.Dense(512, activation='relu', input_shape=(28 * 28,)))\n",
        "network.add(layers.Dense(10, activation='softmax'))"
      ],
      "execution_count": 0,
      "outputs": []
    },
    {
      "cell_type": "markdown",
      "metadata": {
        "id": "Dn4WKRcFhRK8",
        "colab_type": "text"
      },
      "source": [
        "Compilation Steps:  Loss Function, Optimizer and Metrics to monitor during training and testing(Accuracy)"
      ]
    },
    {
      "cell_type": "code",
      "metadata": {
        "id": "ZKENdUqlhM_W",
        "colab_type": "code",
        "colab": {}
      },
      "source": [
        "network.compile(optimizer='rmsprop',loss='categorical_crossentropy',metrics=['accuracy'])"
      ],
      "execution_count": 0,
      "outputs": []
    },
    {
      "cell_type": "markdown",
      "metadata": {
        "id": "4l14FhELhlqZ",
        "colab_type": "text"
      },
      "source": [
        "Preparing the Image Data"
      ]
    },
    {
      "cell_type": "code",
      "metadata": {
        "id": "nJ1ai9sthnyc",
        "colab_type": "code",
        "colab": {}
      },
      "source": [
        "train_images = train_images.reshape((60000, 28 * 28))\n",
        "train_images = train_images.astype('float32') / 255\n",
        "test_images = test_images.reshape((10000, 28 * 28))\n",
        "test_images = test_images.astype('float32') / 255"
      ],
      "execution_count": 0,
      "outputs": []
    },
    {
      "cell_type": "markdown",
      "metadata": {
        "id": "BVHyAao_hrW0",
        "colab_type": "text"
      },
      "source": [
        "Preparing the labels"
      ]
    },
    {
      "cell_type": "code",
      "metadata": {
        "id": "MSKjhUh9huA-",
        "colab_type": "code",
        "colab": {}
      },
      "source": [
        "from keras.utils import to_categorical\n",
        "train_labels = to_categorical(train_labels)\n",
        "test_labels = to_categorical(test_labels)"
      ],
      "execution_count": 0,
      "outputs": []
    },
    {
      "cell_type": "markdown",
      "metadata": {
        "id": "byJDG-b-h1Vu",
        "colab_type": "text"
      },
      "source": [
        "Training the Network: the network’s fit method—we fit the model to its training data"
      ]
    },
    {
      "cell_type": "code",
      "metadata": {
        "id": "2SxFCZqzh8P7",
        "colab_type": "code",
        "colab": {}
      },
      "source": [
        "network.fit(train_images, train_labels, epochs=5, batch_size=128)"
      ],
      "execution_count": 0,
      "outputs": []
    },
    {
      "cell_type": "markdown",
      "metadata": {
        "id": "BXaHRsgEiOJi",
        "colab_type": "text"
      },
      "source": [
        "Testing the Accuracy"
      ]
    },
    {
      "cell_type": "code",
      "metadata": {
        "id": "--LV_O58iQd5",
        "colab_type": "code",
        "colab": {}
      },
      "source": [
        "test_loss, test_acc = network.evaluate(test_images, test_labels)\n",
        "print('test_acc:', test_acc)"
      ],
      "execution_count": 0,
      "outputs": []
    },
    {
      "cell_type": "code",
      "metadata": {
        "id": "Gl7KAn8OiZzi",
        "colab_type": "code",
        "colab": {}
      },
      "source": [
        "import numpy as np\n",
        "x = np.array(12)\n",
        "x"
      ],
      "execution_count": 0,
      "outputs": []
    },
    {
      "cell_type": "code",
      "metadata": {
        "id": "YYTZ7kcWiinR",
        "colab_type": "code",
        "colab": {}
      },
      "source": [
        "x.ndim"
      ],
      "execution_count": 0,
      "outputs": []
    },
    {
      "cell_type": "code",
      "metadata": {
        "id": "oix5tce3inRA",
        "colab_type": "code",
        "colab": {}
      },
      "source": [
        "x = np.array([12,22,45,56,78])\n",
        "x"
      ],
      "execution_count": 0,
      "outputs": []
    },
    {
      "cell_type": "code",
      "metadata": {
        "id": "YBjHaF3Yiv3w",
        "colab_type": "code",
        "colab": {}
      },
      "source": [
        "x.ndim"
      ],
      "execution_count": 0,
      "outputs": []
    },
    {
      "cell_type": "code",
      "metadata": {
        "id": "DcN-_qoQizmH",
        "colab_type": "code",
        "colab": {}
      },
      "source": [
        "x = np.array([[5, 78, 2, 34, 0],\n",
        "[6, 79, 3, 35, 1],\n",
        "[7, 80, 4, 36, 2]])\n",
        "x.ndim"
      ],
      "execution_count": 0,
      "outputs": []
    },
    {
      "cell_type": "code",
      "metadata": {
        "id": "ZYmr3jlUjYsz",
        "colab_type": "code",
        "colab": {}
      },
      "source": [
        "print(train_images.ndim)"
      ],
      "execution_count": 0,
      "outputs": []
    },
    {
      "cell_type": "code",
      "metadata": {
        "id": "ezMKy3hai6s5",
        "colab_type": "code",
        "colab": {}
      },
      "source": [
        ""
      ],
      "execution_count": 0,
      "outputs": []
    }
  ]
}